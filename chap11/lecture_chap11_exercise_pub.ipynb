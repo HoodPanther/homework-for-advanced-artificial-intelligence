{
 "cells": [
  {
   "cell_type": "markdown",
   "metadata": {},
   "source": [
    "# 第11回講義 演習"
   ]
  },
  {
   "cell_type": "code",
   "execution_count": null,
   "metadata": {
    "collapsed": true
   },
   "outputs": [],
   "source": [
    "from __future__ import division\n",
    "from collections import OrderedDict, Counter\n",
    "from sklearn.utils import shuffle\n",
    "from sklearn.metrics import f1_score\n",
    "from sklearn.cross_validation import train_test_split\n",
    "from gensim.models.word2vec import Word2Vec\n",
    "from theano.sandbox.rng_mrg import MRG_RandomStreams as RandomStreams\n",
    "\n",
    "import numpy as np\n",
    "import theano\n",
    "import theano.tensor as T\n",
    "\n",
    "rng = np.random.RandomState(42)\n",
    "trng = RandomStreams(42)"
   ]
  },
  {
   "cell_type": "code",
   "execution_count": null,
   "metadata": {
    "collapsed": false
   },
   "outputs": [],
   "source": [
    "!tar czvf "
   ]
  },
  {
   "cell_type": "markdown",
   "metadata": {},
   "source": [
    "## 課題1. Word2vec"
   ]
  },
  {
   "cell_type": "code",
   "execution_count": null,
   "metadata": {
    "collapsed": true
   },
   "outputs": [],
   "source": [
    "class Corpus:\n",
    "    def __init__(self, file_path):\n",
    "        self.file_path = file_path\n",
    "    \n",
    "    def __iter__(self):\n",
    "        for line in open(self.file_path):\n",
    "            instance = [l.strip().split() for l in line.split('|||')]\n",
    "            # Return format : ['i', 'have', 'a', 'pen']\n",
    "            yield instance[0]"
   ]
  },
  {
   "cell_type": "code",
   "execution_count": null,
   "metadata": {
    "collapsed": false
   },
   "outputs": [],
   "source": [
    "# 文を返すイテレータを書く\n",
    "sentences = Corpus('train.unk')"
   ]
  },
  {
   "cell_type": "code",
   "execution_count": null,
   "metadata": {
    "collapsed": false
   },
   "outputs": [],
   "source": [
    "# sg -> Skipgram, hs -> hierachical softmax (not explained), negative -> negative sample size\n",
    "model = Word2Vec(sentences, size=100, window=5, min_count=5, workers=4, sg=1, hs=0, negative=100)"
   ]
  },
  {
   "cell_type": "code",
   "execution_count": null,
   "metadata": {
    "collapsed": false
   },
   "outputs": [],
   "source": [
    "# similarity\n",
    "model.similarity('woman', 'man')"
   ]
  },
  {
   "cell_type": "code",
   "execution_count": null,
   "metadata": {
    "collapsed": false
   },
   "outputs": [],
   "source": [
    "# model.most_similar(positive=['bank', 'company'], negative=['money'])\n",
    "model.most_similar(positive=['Morgan'])"
   ]
  },
  {
   "cell_type": "markdown",
   "metadata": {},
   "source": [
    "\n",
    "## 課題2. Recurrent Neural Network (RNN) Encoder-Decoderモデルで日中翻訳"
   ]
  },
  {
   "cell_type": "markdown",
   "metadata": {
    "collapsed": true
   },
   "source": [
    "### 1. データセットの読み込みと単語・品詞のID化"
   ]
  },
  {
   "cell_type": "markdown",
   "metadata": {},
   "source": [
    "train.zh-enの中身 (中国語の文 ||| 英語の文)\n",
    "```\n",
    "<s> 我 能 赶上 去 UNK 饭店 的 巴士 吗 ? </s> ||| <s> can i catch a bus that goes to the hilton hotel ? </s>\n",
    "<s> 有 去 市里 的 火车 吗 ? </s> ||| <s> is there a train that goes to the city ? </s>\n",
    "<s> 在 UNK 下面 。 </s> ||| <s> it 's just down the hall . </s>\n",
    "...\n",
    "```"
   ]
  },
  {
   "cell_type": "code",
   "execution_count": null,
   "metadata": {
    "collapsed": false
   },
   "outputs": [],
   "source": [
    "def build_vocab(file_path):\n",
    "    f_vocab, e_vocab = set(), set()\n",
    "    for line in open(file_path):\n",
    "        f, e = [l.strip().split()[1:-1] for l in line.split('|||')]\n",
    "        f_vocab.update(f)\n",
    "        e_vocab.update(e)\n",
    "    \n",
    "    f_w2i = {w: np.int32(i+2) for i, w in enumerate(f_vocab)}\n",
    "    e_w2i = {w: np.int32(i+2) for i, w in enumerate(e_vocab)}\n",
    "    \n",
    "    f_w2i['<s>'], f_w2i['</s>'] = np.int32(0), np.int32(1)\n",
    "    e_w2i['<s>'], e_w2i['</s>'] = np.int32(0), np.int32(1)\n",
    "    return set(f_w2i.keys()), set(e_w2i.keys()), f_w2i, e_w2i\n",
    "    \n",
    "def encode(sentence, vocab, w2i):\n",
    "    encoded_sentence = []\n",
    "    for w in sentence:\n",
    "        if w in vocab:\n",
    "            encoded_sentence.append(w2i[w])\n",
    "        else:\n",
    "            encoded_sentence.append(w2i['UNK'])\n",
    "    return encoded_sentence\n",
    "    \n",
    "def decode(encoded_sentence, w2i):\n",
    "    i2w = {i:w for w, i in w2i.items()}\n",
    "    decoded_sentence = []\n",
    "    for i in encoded_sentence:\n",
    "        decoded_sentence.append(i2w[i])\n",
    "    return decoded_sentence\n",
    "    \n",
    "def load_data(file_path, f_vocab, e_vocab, f_w2i, e_w2i):\n",
    "    x, y = [], []\n",
    "    for line in open(file_path):\n",
    "        f, e = [l.strip().split() for l in line.split('|||')]\n",
    "        f_enc = encode(f, f_vocab, f_w2i)\n",
    "        e_enc = encode(e, e_vocab, e_w2i)\n",
    "        x.append(f_enc)\n",
    "        y.append(e_enc)\n",
    "    return x, y\n",
    "\n",
    "f_vocab, e_vocab, f_w2i, e_w2i = build_vocab('./train.zh-en')\n",
    "train_X, train_y = load_data('./train.zh-en', f_vocab, e_vocab, f_w2i, e_w2i)\n",
    "train_X, test_X, train_y, test_y = train_test_split(train_X, train_y, test_size=0.2, random_state=42)"
   ]
  },
  {
   "cell_type": "markdown",
   "metadata": {},
   "source": [
    "### 2. 単語のembedding"
   ]
  },
  {
   "cell_type": "code",
   "execution_count": null,
   "metadata": {
    "collapsed": true
   },
   "outputs": [],
   "source": [
    "def sharedX(X, name=None, dtype=\"float32\"):\n",
    "    return theano.shared(np.array(X, dtype=dtype), name=name)\n",
    "\n",
    "class Projection:\n",
    "    def __init__(self, in_dim, out_dim, scale):\n",
    "        self.V = sharedX(rng.randn(in_dim, out_dim)*scale, name='V')\n",
    "        self.params = [self.V]\n",
    "\n",
    "    def f_prop(self, x):\n",
    "        x_emb = self.V[x]\n",
    "        return x_emb"
   ]
  },
  {
   "cell_type": "markdown",
   "metadata": {},
   "source": [
    "### 3. Long short-term memory (LSTM)"
   ]
  },
  {
   "cell_type": "markdown",
   "metadata": {},
   "source": [
    "LSTMの構造はスライド参照"
   ]
  },
  {
   "cell_type": "markdown",
   "metadata": {},
   "source": [
    "- 入力ゲート: $\\hspace{20mm}i_t = \\sigma \\left( W_{xi} x_t + W_{hi} h_{t-1} + W_{ci} c_{t-1} + b_i \\right)$\n",
    "- 忘却ゲート: $\\hspace{20mm}f_t = \\sigma \\left( W_{xf} x_t + W_{hf} h_{t-1} + W_{cf} c_{t-1} + b_f \\right)$  \n",
    "- セル:　　　 $\\hspace{20mm}c_t = f_t c_{t-1} + i_t \\tanh \\left( W_{xc} x_t + W_{hc} h_{t-1} + b_c \\right)$  \n",
    "- 出力ゲート: $\\hspace{20mm}o_t = \\sigma \\left( W_{xo} x_t + W_{ho} h_{t-1} + W_{co} c_{t} + b_o \\right)$  \n",
    "- 隠れ層: 　　$\\hspace{20mm}h_t = o_t\\tanh \\left( c_t \\right)$"
   ]
  },
  {
   "cell_type": "code",
   "execution_count": null,
   "metadata": {
    "collapsed": true
   },
   "outputs": [],
   "source": [
    "class LSTM:\n",
    "    def __init__(self, in_dim, out_dim, scale, h_0=None, c_0=None):\n",
    "        \n",
    "        #- Input gate\n",
    "        self.W_xi = sharedX(rng.randn(# WRITE ME!)*scale, name='W_xi')\n",
    "        self.W_hi = sharedX(rng.randn(# WRITE ME!)*scale, name='W_hi')\n",
    "        self.W_ci = sharedX(rng.randn(# WRITE ME!)*scale, name='W_ci')\n",
    "        self.b_i  = sharedX(rng.randn(# WRITE ME!)*scale, name='b_i')\n",
    "        \n",
    "        #- Forget gate\n",
    "        self.W_xf = sharedX(rng.randn(# WRITE ME!)*scale, name='W_xf')\n",
    "        self.W_hf = sharedX(rng.randn(# WRITE ME!)*scale, name='W_hf')\n",
    "        self.W_cf = sharedX(rng.randn(# WRITE ME!)*scale, name='W_cf')\n",
    "        self.b_f  = sharedX(rng.randn(# WRITE ME!)*scale, name='b_f')\n",
    "        \n",
    "        #- Cell state\n",
    "        self.W_xc = sharedX(rng.randn(# WRITE ME!)*scale, name='W_xc')\n",
    "        self.W_hc = sharedX(rng.randn(# WRITE ME!)*scale, name='W_hc')\n",
    "        self.b_c  = sharedX(rng.randn(# WRITE ME!)*scale, name='b_c')\n",
    "        \n",
    "        #- Output gate\n",
    "        self.W_xo = sharedX(rng.randn(# WRITE ME!)*scale, name='W_xo')\n",
    "        self.W_ho = sharedX(rng.randn(# WRITE ME!)*scale, name='W_ho')\n",
    "        self.W_co = sharedX(rng.randn(# WRITE ME!)*scale, name='W_co')\n",
    "        self.b_o  = sharedX(rng.randn(# WRITE ME!)*scale, name='b_o')\n",
    "\n",
    "        #- Initial state\n",
    "        if h_0 is None:\n",
    "            self.h_0 = sharedX(# WRITE ME!), name='h_0')\n",
    "        else:\n",
    "            self.h_0 = h_0\n",
    "        if c_0 is None:\n",
    "            self.c_0 = sharedX(# WRITE ME!), name='c_0')\n",
    "        else:\n",
    "            self.c_0 = c_0\n",
    "\n",
    "        self.output_info = [self.h_0, self.c_0]\n",
    "        self.params = [self.W_xf, self.W_hf, self.W_cf, self.b_f\n",
    "                       , self.W_xi, self.W_hi, self.W_ci, self.b_i\n",
    "                       , self.W_xc, self.W_hc, self.b_c\n",
    "                       , self.W_xo, self.W_ho, self.W_co, self.b_o]\n",
    "    \n",
    "    def f_prop(self, x):\n",
    "        def fn(x, h_tm1, c_tm1):\n",
    "            # Input gate\n",
    "            i_t = # WRITE ME!\n",
    "            \n",
    "            # Forget gate\n",
    "            f_t = # WRITE ME!\n",
    "            \n",
    "            # Cell state\n",
    "            c_t = # WRITE ME!\n",
    "            \n",
    "            # Output gate\n",
    "            o_t = # WRITE ME!\n",
    "            \n",
    "            # Hidden state\n",
    "            h_t = # WRITE ME!\n",
    "            \n",
    "            return h_t, c_t\n",
    "        \n",
    "        [h,c], _ = theano.scan(# WRITE ME!)\n",
    "        \n",
    "        return h"
   ]
  },
  {
   "cell_type": "markdown",
   "metadata": {},
   "source": [
    "### 4. 線形層"
   ]
  },
  {
   "cell_type": "code",
   "execution_count": null,
   "metadata": {
    "collapsed": true
   },
   "outputs": [],
   "source": [
    "class Linear:\n",
    "    def __init__(self, in_dim, out_dim, scale):\n",
    "        self.W_out = sharedX(rng.randn(in_dim, out_dim)*scale, name='W_out')\n",
    "        self.b_out = sharedX(rng.randn(out_dim,)*scale, name='b_out')\n",
    "        self.params = [self.W_out, self.b_out]\n",
    "\n",
    "    def f_prop(self, x):\n",
    "        z = T.dot(x, self.W_out) + self.b_out\n",
    "        return z"
   ]
  },
  {
   "cell_type": "markdown",
   "metadata": {},
   "source": [
    "### 5. 活性化層"
   ]
  },
  {
   "cell_type": "code",
   "execution_count": null,
   "metadata": {
    "collapsed": true
   },
   "outputs": [],
   "source": [
    "class Activation:\n",
    "    def __init__(self, function):\n",
    "        self.function = function\n",
    "        self.params = []\n",
    "\n",
    "    def f_prop(self, x):\n",
    "        self.z = self.function(x)\n",
    "        return self.z"
   ]
  },
  {
   "cell_type": "markdown",
   "metadata": {},
   "source": [
    "### 6. 更新則"
   ]
  },
  {
   "cell_type": "code",
   "execution_count": null,
   "metadata": {
    "collapsed": true
   },
   "outputs": [],
   "source": [
    "def sgd(cost, params, eps=np.float32(0.1)):\n",
    "    g_params = T.grad(cost, params)\n",
    "    updates = OrderedDict()\n",
    "    for param, g_param in zip(params, g_params):\n",
    "        updates[param] = param - eps*g_param\n",
    "    return updates"
   ]
  },
  {
   "cell_type": "markdown",
   "metadata": {},
   "source": [
    "### 7. ネットワークの定義"
   ]
  },
  {
   "cell_type": "code",
   "execution_count": null,
   "metadata": {
    "collapsed": false
   },
   "outputs": [],
   "source": [
    "x = T.ivector('x')\n",
    "t = T.ivector('t')\n",
    "\n",
    "# Target\n",
    "t_in = t[:-1]\n",
    "t_out = t[1:]\n",
    "\n",
    "hid_dim = 100\n",
    "out_dim = 100\n",
    "\n",
    "def f_props(layers, x):\n",
    "    layer_out = x\n",
    "    for i, layer in enumerate(layers):\n",
    "        if i == 0:\n",
    "            layer_out = layer.f_prop(x)\n",
    "        else:\n",
    "            layer_out = layer.f_prop(layer_out)\n",
    "    return layer_out\n",
    "\n",
    "encoder = [\n",
    "    # レイヤー構成を決める\n",
    "]\n",
    "\n",
    "h_enc = f_props(encoder, x)[-1] # Take the last state of encoder\n",
    "\n",
    "decoder = [\n",
    "    # レイヤー構成を決める\n",
    "]"
   ]
  },
  {
   "cell_type": "markdown",
   "metadata": {},
   "source": [
    "### 8. train関数とvalid関数とtest関数"
   ]
  },
  {
   "cell_type": "code",
   "execution_count": null,
   "metadata": {
    "collapsed": false
   },
   "outputs": [],
   "source": [
    "def join(layers):\n",
    "    params = []\n",
    "    for layer in layers:\n",
    "        params += layer.params\n",
    "    return params\n",
    "\n",
    "y = f_props(decoder, t_in)\n",
    "cost = T.mean(T.nnet.categorical_crossentropy(y, t_out))\n",
    "\n",
    "params = join(encoder + decoder)\n",
    "updates = sgd(cost, params)\n",
    "\n",
    "train = theano.function(inputs=[x, t], outputs=cost, updates=updates)\n",
    "valid = theano.function(inputs=[x, t], outputs=cost)\n",
    "test  = theano.function(inputs=[x, t], outputs=[cost, T.argmax(y, axis=1)])"
   ]
  },
  {
   "cell_type": "markdown",
   "metadata": {},
   "source": [
    "### 9. 学習"
   ]
  },
  {
   "cell_type": "code",
   "execution_count": null,
   "metadata": {
    "collapsed": false,
    "scrolled": false
   },
   "outputs": [],
   "source": [
    "epochs = 1\n",
    "for epoch in xrange(epochs):\n",
    "    train_X, train_y = shuffle(train_X, train_y)  # Shuffle Samples !!\n",
    "    for i, (instance_x, instance_y) in enumerate(zip(train_X, train_y)):\n",
    "        train_cost = train(instance_x, instance_y)\n",
    "        if i%100 == 0:\n",
    "            print \"EPOCH:: %i, Iteration %i, Training Cost: %.3f\" % (epoch + 1, i, train_cost)\n",
    "        if (i+1)%5000 == 0:\n",
    "            break"
   ]
  },
  {
   "cell_type": "markdown",
   "metadata": {
    "collapsed": true
   },
   "source": [
    "### 10. テスト"
   ]
  },
  {
   "cell_type": "markdown",
   "metadata": {},
   "source": [
    "idからwordへの辞書を作成"
   ]
  },
  {
   "cell_type": "code",
   "execution_count": null,
   "metadata": {
    "collapsed": true
   },
   "outputs": [],
   "source": [
    "f_i2w = {value:key for key, value in f_w2i.items()}\n",
    "e_i2w = {value:key for key, value in e_w2i.items()}"
   ]
  },
  {
   "cell_type": "markdown",
   "metadata": {},
   "source": [
    "テスト"
   ]
  },
  {
   "cell_type": "code",
   "execution_count": null,
   "metadata": {
    "collapsed": false
   },
   "outputs": [],
   "source": [
    "num = 45\n",
    "instance_x, instance_y = test_X[num], test_y[num]\n",
    "test_cost, pred_y = test(instance_x, instance_y)\n",
    "print \"Test Cost: %.3f\" % test_cost\n",
    "print \"元の文: %s\" % ' '.join([f_i2w[com] for com in instance_y])\n",
    "print \"翻訳文: %s\" % ' '.join([e_i2w[com] for com in pred_y])"
   ]
  }
 ],
 "metadata": {
  "anaconda-cloud": {},
  "kernelspec": {
   "display_name": "Python 2",
   "language": "python",
   "name": "python2"
  },
  "language_info": {
   "codemirror_mode": {
    "name": "ipython",
    "version": 2
   },
   "file_extension": ".py",
   "mimetype": "text/x-python",
   "name": "python",
   "nbconvert_exporter": "python",
   "pygments_lexer": "ipython2",
   "version": "2.7.12"
  },
  "toc": {
   "toc_cell": false,
   "toc_number_sections": false,
   "toc_threshold": 6,
   "toc_window_display": false
  }
 },
 "nbformat": 4,
 "nbformat_minor": 0
}

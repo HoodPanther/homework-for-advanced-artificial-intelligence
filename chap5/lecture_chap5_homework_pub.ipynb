{
 "cells": [
  {
   "cell_type": "markdown",
   "metadata": {},
   "source": [
    "# 第5回講義 宿題"
   ]
  },
  {
   "cell_type": "markdown",
   "metadata": {},
   "source": [
    "## 課題. Theanoを用いて, MNISTを多層パーセプトロン(MLP)で学習せよ"
   ]
  },
  {
   "cell_type": "markdown",
   "metadata": {},
   "source": [
    "### 注意"
   ]
  },
  {
   "cell_type": "markdown",
   "metadata": {},
   "source": [
    "- homework関数を完成させて提出してください\n",
    "    - 訓練データはtrain_X, train_y, テストデータはtest_Xで与えられます\n",
    "    - train_Xとtrain_yをtrain_X, train_yとvalid_X, valid_yに分けるなどしてモデルを学習させてください\n",
    "    - test_Xに対して予想ラベルpred_yを作り, homework関数の戻り値としてください\\\n",
    "- pred_yのtest_yに対する精度(F値)で評価します\n",
    "- 全体の実行時間がiLect上で60分を超えないようにしてください\n",
    "- homework関数の外には何も書かないでください"
   ]
  },
  {
   "cell_type": "markdown",
   "metadata": {},
   "source": [
    "- CNNは使わないでください"
   ]
  },
  {
   "cell_type": "markdown",
   "metadata": {},
   "source": [
    "次のような内容のコードが**事前**に実行されます"
   ]
  },
  {
   "cell_type": "markdown",
   "metadata": {},
   "source": [
    "```python\n",
    "from __future__ import division\n",
    "from collections import OrderedDict\n",
    "from sklearn.utils import shuffle\n",
    "from sklearn.metrics import f1_score\n",
    "from sklearn.datasets import fetch_mldata\n",
    "from sklearn.cross_validation import train_test_split\n",
    "\n",
    "import numpy as np\n",
    "import theano\n",
    "import theano.tensor as T\n",
    "\n",
    "mnist = fetch_mldata('MNIST original')\n",
    "mnist_X, mnist_y = shuffle(mnist.data.astype('float32'), mnist.target.astype('int32'))\n",
    "\n",
    "mnist_X = mnist_X / 255.0\n",
    "\n",
    "train_X, test_X, train_y, test_y = train_test_split(mnist_X, mnist_y, test_size=0.2, random_state=??) # random_stateはこちらで与えます\n",
    "```"
   ]
  },
  {
   "cell_type": "markdown",
   "metadata": {},
   "source": [
    "次のセルのhomework関数を完成させて提出してください\n",
    "- パッケージのインポートなど, 必要な物はすべて書いてください"
   ]
  },
  {
   "cell_type": "code",
   "execution_count": null,
   "metadata": {
    "collapsed": true,
    "deletable": false,
    "ilect": {
     "is_homework": true
    }
   },
   "outputs": [],
   "source": [
    "def homework(train_X, test_X, train_y):\n",
    "    #--- Multi Layer Perceptron\n",
    "    train_y = np.eye(10)[train_y]\n",
    "    train_X, valid_X, train_y, valid_y = train_test_split(train_X, train_y, test_size=0.05, random_state=42)\n",
    "    class Layer:\n",
    "        #- Constructor\n",
    "        def __init__(self, in_dim, out_dim, function):\n",
    "            self.in_dim   = in_dim\n",
    "            self.out_dim  = out_dim\n",
    "            self.function = function\n",
    "            self.W        = theano.shared(np.sqrt(2.0/in_dim) * np.random.randn(in_dim, out_dim).astype(\"float32\"))\n",
    "            self.b        = theano.shared(np.zeros(out_dim).astype(\"float32\"))\n",
    "            self.params   = [self.W, self.b]\n",
    "\n",
    "        #- Forward Propagation\n",
    "        def f_prop(self, x):\n",
    "            self.z = self.function(T.dot(x, self.W) + self.b)\n",
    "            return self.z\n",
    "\n",
    "    #--- Stochastic Gradient Descent\n",
    "    def sgd(params, g_params, eps=np.float32(0.1)):\n",
    "        updates = OrderedDict()\n",
    "        for param, g_param in zip(params, g_params):\n",
    "            updates[param] = param - eps * g_param\n",
    "        return updates\n",
    "    \n",
    "    def relu(x):\n",
    "        return T.maximum(0, x)\n",
    "    \n",
    "    layers = [\n",
    "        Layer(train_X.shape[1], 200, relu),\n",
    "        #Layer(200, 200, T.nnet.sigmoid),\n",
    "        Layer(200, 10, T.nnet.softmax)\n",
    "    ]\n",
    "\n",
    "    x = T.fmatrix('x')\n",
    "    t = T.imatrix('t')\n",
    "\n",
    "    params = []\n",
    "    for i, layer in enumerate(layers):\n",
    "        params += layer.params\n",
    "        if i == 0:\n",
    "            layer_out = layer.f_prop(x)\n",
    "        else:\n",
    "            layer_out = layer.f_prop(layer_out)\n",
    "\n",
    "    y = layers[-1].z\n",
    "    cost = T.mean(T.nnet.categorical_crossentropy(y, t))\n",
    "\n",
    "    g_params = T.grad(cost=cost, wrt=params)\n",
    "    updates = sgd(params, g_params)\n",
    "    \n",
    "    train = theano.function(inputs=[x, t], outputs=cost, updates=updates, \n",
    "                            allow_input_downcast=True, name='train')\n",
    "    valid = theano.function(inputs=[x, t], outputs=[cost, T.argmax(y, axis=1)], \n",
    "                            allow_input_downcast=True, name='valid')\n",
    "    test  = theano.function(inputs=[x], outputs=T.argmax(y, axis=1), name='test')\n",
    "    \n",
    "    batch_size = 10\n",
    "    n_batches = train_X.shape[0]//batch_size\n",
    "    for epoch in xrange(50):\n",
    "        train_X, train_y = shuffle(train_X, train_y)\n",
    "        for i in xrange(n_batches):\n",
    "            start = i*batch_size\n",
    "            end = start + batch_size\n",
    "            train(train_X[start:end], train_y[start:end])\n",
    "        valid_cost, pred_y = valid(valid_X, valid_y)\n",
    "    print 'EPOCH:: %i, Validation cost: %.3f, Validation F1: %.3f' % (epoch + 1, \n",
    "        valid_cost, f1_score(np.argmax(valid_y, axis=1).astype('int32'), pred_y, average='macro'))\n",
    "    pred_y = test(test_X)\n",
    "    return pred_y"
   ]
  },
  {
   "cell_type": "code",
   "execution_count": null,
   "metadata": {
    "collapsed": false,
    "deletable": false,
    "ilect": {
     "course_id": 1,
     "course_rank": 5,
     "is_evaluation": true
    }
   },
   "outputs": [],
   "source": [
    "from __future__ import division\n",
    "from collections import OrderedDict\n",
    "from sklearn.utils import shuffle\n",
    "from sklearn.metrics import f1_score\n",
    "from sklearn.datasets import fetch_mldata\n",
    "from sklearn.cross_validation import train_test_split\n",
    "\n",
    "import numpy as np\n",
    "import theano\n",
    "import theano.tensor as T\n",
    "\n",
    "def load_mnist():\n",
    "    mnist = fetch_mldata('MNIST original')\n",
    "    mnist_X, mnist_y = shuffle(mnist.data.astype('float32'), mnist.target.astype('int32'))\n",
    "\n",
    "    mnist_X = mnist_X / 255.0\n",
    "\n",
    "    train_X, test_X, train_y, test_y = train_test_split(mnist_X, mnist_y, test_size=0.2, random_state=42)\n",
    "\n",
    "    return (train_X, test_X, train_y, test_y)\n",
    "\n",
    "def check_homework():\n",
    "    train_X, test_X, train_y, test_y = load_mnist()\n",
    "    pred_y = homework(train_X, test_X, train_y)\n",
    "    return f1_score(test_y, pred_y, average='macro')\n",
    "\n",
    "if 'homework' in globals():\n",
    "    result = check_homework()\n",
    "\n",
    "    print \"No Error Occured!\""
   ]
  }
 ],
 "metadata": {
  "kernelspec": {
   "display_name": "Python 2",
   "language": "python",
   "name": "python2"
  },
  "language_info": {
   "codemirror_mode": {
    "name": "ipython",
    "version": 2
   },
   "file_extension": ".py",
   "mimetype": "text/x-python",
   "name": "python",
   "nbconvert_exporter": "python",
   "pygments_lexer": "ipython2",
   "version": "2.7.11"
  }
 },
 "nbformat": 4,
 "nbformat_minor": 0
}
